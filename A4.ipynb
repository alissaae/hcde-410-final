{
 "cells": [
  {
   "cell_type": "markdown",
   "id": "78585647-344a-46cc-9cd8-9152974a2788",
   "metadata": {},
   "source": [
    "## A4 Preliminary Project Proposal\n",
    "Highlighting the motivation, data, and possible ethical considerations and unknowns\n"
   ]
  },
  {
   "cell_type": "markdown",
   "id": "42ccebe7-fd3e-431c-b81f-06d42c3a1753",
   "metadata": {},
   "source": [
    "### Motivation and Problem Statement\n",
    "\n",
    "What I am planning to do with this analysis is determine if UFO sightings have a correlation to sci-fi movies released, if the timing of the movie release, the country of origin (i.e. released in the US) has an impact on the reports. My peers helped me scope to jsut time and country becuase I had other variables but need to better consider the timeline of the class. I am curious about the impact media has on culture as well as exploring how the sub-concious may be influenced by what we think we see. This is interesting and useful from a more practicial and human-centered perspective because it will uncover a possible influence of technology or show no correlation at all, perhaps pushing us to consider the extra-terrestrial more seriously. I hope to learn more about what factors may influence UFO sighting reports see if there is a trend among where/when/what is seen. Film and media often influence us, it is my curiousity that they may influence our sub-concious and imagination to see things we hope to find. "
   ]
  },
  {
   "cell_type": "markdown",
   "id": "3dbbae30-f3e9-4868-a008-88537416aa2d",
   "metadata": {},
   "source": [
    "### Data for Analysis\n",
    "\n",
    "The data I plan to use is one for the movies, to find movies that have context about aliens(https://www.kaggle.com/datasets/rounakbanik/the-movies-dataset) and another for the UFO sightings (https://www.kaggle.com/datasets/NUFORC/ufo-sightings). \n",
    "\n",
    "#### Movie Data Set(https://www.kaggle.com/datasets/rounakbanik/the-movies-dataset)\n",
    "This data set contain metadata for all 45,000 movies listed in the Full MovieLens Dataset. The dataset consists of movies released on or before July 2017. Data points include cast, crew, plot keywords, budget, revenue, posters, release dates, languages, production companies, countries, TMDB vote counts and vote averages. I am interested in the keywords (aliens), release dates, and countries (US). \n",
    "\n",
    "The license for this data set is public domain https://creativecommons.org/publicdomain/zero/1.0/\n",
    "\n",
    "This data set is suitable because it addresses all of my variables of interest, I am able to scope to movies that have plot keywords of aliens, the data of the release and the country of release (USA) this will allow me to search for UFO sightings in those years and places.\n",
    "\n",
    "The ethical considerations for this data set are minimal, the data from the films is mostly based on fact, the only place where I may need to consider is if I have to cut or reduce movies I look at the UFO data with. How I plan to decide which ones could be ethical but to reduce that I may consider a random generator. \n",
    "\n",
    "\n",
    "#### UFO Sighting Data Set(https://www.kaggle.com/datasets/NUFORC/ufo-sightings)\n",
    "\n",
    "This dataset contains over 80,000 reports of UFO sightings over the last century. There are two versions of this dataset: scrubbed and complete. The complete data includes entries where the location of the sighting was not found or blank (0.8146%) or have an erroneous or blank time (8.0237%). Since the reports date back to the 20th century, some older data might be obscured. Data contains city, state, time, description, and duration of each sighting.\n",
    "\n",
    "The liscense is Unknown (as seen on the data set website)\n",
    "\n",
    "This data set is suitable because it has the location and year of the UFO sighting allowing me to compare to movie release years and location (USA) \n",
    "\n",
    "Possible ethical considerations is the data set includes exact latitude points and descriptions with varying levels of detail about location or the person reporting. Being sure to reduce the chances of data being traced back to a person in a time/place will be something to consider when highlighting data points. My peers brought up notes about this, just to be wary of what data I highlight and being sure the comments protect people, by removing names or exact personal information. \n",
    "\n",
    "#### Unknowns/Dependencies\n",
    "I think I may have to scope down a bit potentially only look at a few movies the biggest part of this work will be getting a list of movies from the data set and into a dictionary, remembering python may take a while. Getting help early will be important. Getting the data will be one thing but making it digestable will be another, being clear with myself to have a date to have the data by then in a presentable form will help. \n"
   ]
  },
  {
   "cell_type": "markdown",
   "id": "3c82722a-219b-49ee-9212-75cbcbf226c6",
   "metadata": {},
   "source": [
    "#### Research Questions\n",
    "My research question: \"How does major sci-fi movie releases affect UFO reporting frequency?\"\n",
    "My hypothesis being: After major sci-fi movie releases UFO sighitings increase in frequnecy as opposed to time periods before the movie was released. \n",
    "\n",
    "\n",
    "#### Background\n",
    "The influence of media influences our behavior in ways we are sometimes unconcious of, it is through these unconcious channels of influence there can be attempts made to tap into this resource. If this influence exists there could be many motivations to tap into this resource of public influence, political, monetary, or personal reasons may apply. \n",
    "\n",
    "One psychology paper digs into this idea, \"A QUANTITATIVE, NONREACTIVE STUDY OF MASS BEHAVIOR WITH EMPHASIS ON THE CINEMA AS\n",
    "BEHAVIORAL CATALYST\"(1981) (https://journals.sagepub.com/doi/pdf/10.2466/pr0.1981.48.3.775) cites an example of the movie Jaws released in 1975, a movie where the plot revolved around the sudden appearance and attacks of a Great White shark on swimmers\n",
    "at a beach resort, and the attempts to kill the shark. The quantitative data they recorded showing the affect of the film on the mass behavior was through media instances of shark attacks. There was an increased number of newspaper articles, photographs, and cartoons on sharks/Jaws occurred in 1975 over the same months in different years. This is particularly relevant to the issue of bias in the news media as various scientists publicly pointed out that there had not been an increase in either shark sighting or attacks. This is key to the psychological reporting affect the media can have on the public. \n",
    "\n",
    "Additionally the sensitivity of the topic can affect how it is presented, UFOs having a long history of government influence can make them seem even more novel to the public. In this report (https://citeseerx.ist.psu.edu/viewdoc/download?doi=10.1.1.825.3162&rep=rep1&type=pdf) highlighting the history of UFOs and the government and the possible implications that although the extraterrestrial hypothesis “has not been categorically proven... strong presumptions exist in its favour.” The report then goes on to consider in detail the likely consequences of open extraterrestrial contact for politics, science and religion. This vague secrecy and novel interest may pull reporters in further. \n",
    "\n",
    "\n",
    "#### Methodology\n",
    "How I intend to analyze my data is:\n",
    "1. Find the top major sci-fi movie releases, randomly select 5 of them. This will require filtering the movie data by country and key word \"aliens\" From this list, to be stored in a dictionary I will randomly choose 5 using a random generator. \n",
    "2. Using the years they came out, filter the UFO reporting data to the year of release(+/- one 5 years) and +/- 5 years before the release. The range of 5 years is used as to account for the sparseness of the UFO data in some time periods. The filtering for the UFO data will be to scope to USA reports and the years (5 before the movie release data and 5 after the movie release date) This process will be repeated for all 5 movies. \n",
    "3. Compare the two values of reported sightings before and after the release date\n",
    "\n",
    "I will compare the values using a histogram to depeict frequency for all of the movies for easy readability. As one of my variables is nominal, the movie and the other more ordinal, UFO sighting counts, I will use a chi sq goodness of fit calculator to determine if my results are statistically significant. \n",
    "\n",
    "Sources:\n",
    "Simón, A. (1981). A quantitative, nonreactive study of mass behavior with emphasis on the cinema as behavioral catalyst. Psychological Reports, 48(3), 775-785.\n",
    "\n",
    "Graham, R., & Alford, M. (2011). A history of government management of ufo perceptions through film and television. 49th Parallel, 25.\n"
   ]
  },
  {
   "cell_type": "markdown",
   "id": "c77f51d7-f2f3-45fe-828e-eadff45f1001",
   "metadata": {},
   "source": []
  }
 ],
 "metadata": {
  "kernelspec": {
   "display_name": "Python 3 (ipykernel)",
   "language": "python",
   "name": "python3"
  },
  "language_info": {
   "codemirror_mode": {
    "name": "ipython",
    "version": 3
   },
   "file_extension": ".py",
   "mimetype": "text/x-python",
   "name": "python",
   "nbconvert_exporter": "python",
   "pygments_lexer": "ipython3",
   "version": "3.9.7"
  }
 },
 "nbformat": 4,
 "nbformat_minor": 5
}
